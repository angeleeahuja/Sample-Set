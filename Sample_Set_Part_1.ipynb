{
  "cells": [
    {
      "cell_type": "markdown",
      "source": [
        "##Overview:\n",
        "\n",
        "This project demonstrates the implementation of a Retrieval-Augmented Generation (RAG) model to develop a question-answering (QA) bot for a business. The model retrieves relevant information from a dataset stored in Pinecone, a vector database, and uses a generative model, Cohere's large language model, to generate coherent answers to queries. The pipeline is built using LangChain, Pinecone, and Cohere API.\n",
        "\n",
        "##System Components\n",
        "\n",
        "1. Document Loader: A CSV document loader is used to extract textual content from a dataset, in this case, the SQuAD dataset.\n",
        "\n",
        "2. Text Chunking: To ensure efficient retrieval, large text blocks are split into smaller chunks.\n",
        "\n",
        "3. Embedding Generation: Cohere's embedding model is used to convert text chunks into vectors that represent the meaning of the text in a high-dimensional space.\n",
        "\n",
        "4. Vector Storage (Pinecone): The text embeddings are stored in Pinecone, a vector database that allows for efficient retrieval using similarity search.\n",
        "\n",
        "5. Retrieval QA Chain: The QA chain combines the retrieval mechanism (Pinecone) with a generative language model (Cohere) to answer queries based on the retrieved documents."
      ],
      "metadata": {
        "id": "9CQBl65EFiaP"
      }
    },
    {
      "cell_type": "markdown",
      "source": [
        "How It Works\n",
        "\n",
        "1. Data Loading: The CSV file is read, and the text content is split into chunks.\n",
        "2. Vectorization: Each chunk is transformed into a vector embedding using Cohere.\n",
        "3. Indexing: The embeddings are stored in Pinecone for efficient retrieval.\n",
        "4. Retrieval: For any given query, the bot retrieves the most relevant text chunks using Pinecone.\n",
        "5. Answer Generation: Based on the retrieved chunks, Cohere generates a coherent response to the query."
      ],
      "metadata": {
        "id": "7IMB3CFfGla9"
      }
    },
    {
      "cell_type": "code",
      "execution_count": null,
      "metadata": {
        "colab": {
          "base_uri": "https://localhost:8080/"
        },
        "collapsed": true,
        "id": "8N5P27yLTZfl",
        "outputId": "9820c119-bc9e-4380-a4d3-67618716bd49"
      },
      "outputs": [
        {
          "output_type": "stream",
          "name": "stdout",
          "text": [
            "Requirement already satisfied: pinecone-client in /usr/local/lib/python3.10/dist-packages (5.0.1)\n",
            "Requirement already satisfied: langchain-community in /usr/local/lib/python3.10/dist-packages (0.3.0)\n",
            "Requirement already satisfied: pypdf in /usr/local/lib/python3.10/dist-packages (4.3.1)\n",
            "Requirement already satisfied: langchain-cohere in /usr/local/lib/python3.10/dist-packages (0.3.0)\n",
            "Requirement already satisfied: langchain_pinecone in /usr/local/lib/python3.10/dist-packages (0.2.0)\n",
            "Requirement already satisfied: certifi>=2019.11.17 in /usr/local/lib/python3.10/dist-packages (from pinecone-client) (2024.8.30)\n",
            "Requirement already satisfied: pinecone-plugin-inference<2.0.0,>=1.0.3 in /usr/local/lib/python3.10/dist-packages (from pinecone-client) (1.1.0)\n",
            "Requirement already satisfied: pinecone-plugin-interface<0.0.8,>=0.0.7 in /usr/local/lib/python3.10/dist-packages (from pinecone-client) (0.0.7)\n",
            "Requirement already satisfied: tqdm>=4.64.1 in /usr/local/lib/python3.10/dist-packages (from pinecone-client) (4.66.5)\n",
            "Requirement already satisfied: typing-extensions>=3.7.4 in /usr/local/lib/python3.10/dist-packages (from pinecone-client) (4.12.2)\n",
            "Requirement already satisfied: urllib3>=1.26.0 in /usr/local/lib/python3.10/dist-packages (from pinecone-client) (2.0.7)\n",
            "Requirement already satisfied: PyYAML>=5.3 in /usr/local/lib/python3.10/dist-packages (from langchain-community) (6.0.2)\n",
            "Requirement already satisfied: SQLAlchemy<3,>=1.4 in /usr/local/lib/python3.10/dist-packages (from langchain-community) (2.0.34)\n",
            "Requirement already satisfied: aiohttp<4.0.0,>=3.8.3 in /usr/local/lib/python3.10/dist-packages (from langchain-community) (3.9.5)\n",
            "Requirement already satisfied: dataclasses-json<0.7,>=0.5.7 in /usr/local/lib/python3.10/dist-packages (from langchain-community) (0.6.7)\n",
            "Requirement already satisfied: langchain<0.4.0,>=0.3.0 in /usr/local/lib/python3.10/dist-packages (from langchain-community) (0.3.0)\n",
            "Requirement already satisfied: langchain-core<0.4.0,>=0.3.0 in /usr/local/lib/python3.10/dist-packages (from langchain-community) (0.3.0)\n",
            "Requirement already satisfied: langsmith<0.2.0,>=0.1.112 in /usr/local/lib/python3.10/dist-packages (from langchain-community) (0.1.120)\n",
            "Requirement already satisfied: numpy<2,>=1 in /usr/local/lib/python3.10/dist-packages (from langchain-community) (1.26.4)\n",
            "Requirement already satisfied: pydantic-settings<3.0.0,>=2.4.0 in /usr/local/lib/python3.10/dist-packages (from langchain-community) (2.5.2)\n",
            "Requirement already satisfied: requests<3,>=2 in /usr/local/lib/python3.10/dist-packages (from langchain-community) (2.32.3)\n",
            "Requirement already satisfied: tenacity!=8.4.0,<9.0.0,>=8.1.0 in /usr/local/lib/python3.10/dist-packages (from langchain-community) (8.5.0)\n",
            "Requirement already satisfied: cohere<6.0,>=5.5.6 in /usr/local/lib/python3.10/dist-packages (from langchain-cohere) (5.9.2)\n",
            "Requirement already satisfied: langchain-experimental>=0.3.0 in /usr/local/lib/python3.10/dist-packages (from langchain-cohere) (0.3.0)\n",
            "Requirement already satisfied: pandas>=1.4.3 in /usr/local/lib/python3.10/dist-packages (from langchain-cohere) (2.1.4)\n",
            "Requirement already satisfied: pydantic<3,>=2 in /usr/local/lib/python3.10/dist-packages (from langchain-cohere) (2.9.1)\n",
            "Requirement already satisfied: tabulate<0.10.0,>=0.9.0 in /usr/local/lib/python3.10/dist-packages (from langchain-cohere) (0.9.0)\n",
            "Requirement already satisfied: aiosignal>=1.1.2 in /usr/local/lib/python3.10/dist-packages (from aiohttp<4.0.0,>=3.8.3->langchain-community) (1.3.1)\n",
            "Requirement already satisfied: attrs>=17.3.0 in /usr/local/lib/python3.10/dist-packages (from aiohttp<4.0.0,>=3.8.3->langchain-community) (24.2.0)\n",
            "Requirement already satisfied: frozenlist>=1.1.1 in /usr/local/lib/python3.10/dist-packages (from aiohttp<4.0.0,>=3.8.3->langchain-community) (1.4.1)\n",
            "Requirement already satisfied: multidict<7.0,>=4.5 in /usr/local/lib/python3.10/dist-packages (from aiohttp<4.0.0,>=3.8.3->langchain-community) (6.1.0)\n",
            "Requirement already satisfied: yarl<2.0,>=1.0 in /usr/local/lib/python3.10/dist-packages (from aiohttp<4.0.0,>=3.8.3->langchain-community) (1.11.1)\n",
            "Requirement already satisfied: async-timeout<5.0,>=4.0 in /usr/local/lib/python3.10/dist-packages (from aiohttp<4.0.0,>=3.8.3->langchain-community) (4.0.3)\n",
            "Requirement already satisfied: boto3<2.0.0,>=1.34.0 in /usr/local/lib/python3.10/dist-packages (from cohere<6.0,>=5.5.6->langchain-cohere) (1.35.19)\n",
            "Requirement already satisfied: fastavro<2.0.0,>=1.9.4 in /usr/local/lib/python3.10/dist-packages (from cohere<6.0,>=5.5.6->langchain-cohere) (1.9.7)\n",
            "Requirement already satisfied: httpx>=0.21.2 in /usr/local/lib/python3.10/dist-packages (from cohere<6.0,>=5.5.6->langchain-cohere) (0.27.2)\n",
            "Requirement already satisfied: httpx-sse==0.4.0 in /usr/local/lib/python3.10/dist-packages (from cohere<6.0,>=5.5.6->langchain-cohere) (0.4.0)\n",
            "Requirement already satisfied: parameterized<0.10.0,>=0.9.0 in /usr/local/lib/python3.10/dist-packages (from cohere<6.0,>=5.5.6->langchain-cohere) (0.9.0)\n",
            "Requirement already satisfied: pydantic-core<3.0.0,>=2.18.2 in /usr/local/lib/python3.10/dist-packages (from cohere<6.0,>=5.5.6->langchain-cohere) (2.23.3)\n",
            "Requirement already satisfied: tokenizers<1,>=0.15 in /usr/local/lib/python3.10/dist-packages (from cohere<6.0,>=5.5.6->langchain-cohere) (0.19.1)\n",
            "Requirement already satisfied: types-requests<3.0.0,>=2.0.0 in /usr/local/lib/python3.10/dist-packages (from cohere<6.0,>=5.5.6->langchain-cohere) (2.32.0.20240914)\n",
            "Requirement already satisfied: marshmallow<4.0.0,>=3.18.0 in /usr/local/lib/python3.10/dist-packages (from dataclasses-json<0.7,>=0.5.7->langchain-community) (3.22.0)\n",
            "Requirement already satisfied: typing-inspect<1,>=0.4.0 in /usr/local/lib/python3.10/dist-packages (from dataclasses-json<0.7,>=0.5.7->langchain-community) (0.9.0)\n",
            "Requirement already satisfied: langchain-text-splitters<0.4.0,>=0.3.0 in /usr/local/lib/python3.10/dist-packages (from langchain<0.4.0,>=0.3.0->langchain-community) (0.3.0)\n",
            "Requirement already satisfied: jsonpatch<2.0,>=1.33 in /usr/local/lib/python3.10/dist-packages (from langchain-core<0.4.0,>=0.3.0->langchain-community) (1.33)\n",
            "Requirement already satisfied: packaging<25,>=23.2 in /usr/local/lib/python3.10/dist-packages (from langchain-core<0.4.0,>=0.3.0->langchain-community) (24.1)\n",
            "Requirement already satisfied: orjson<4.0.0,>=3.9.14 in /usr/local/lib/python3.10/dist-packages (from langsmith<0.2.0,>=0.1.112->langchain-community) (3.10.7)\n",
            "Requirement already satisfied: python-dateutil>=2.8.2 in /usr/local/lib/python3.10/dist-packages (from pandas>=1.4.3->langchain-cohere) (2.8.2)\n",
            "Requirement already satisfied: pytz>=2020.1 in /usr/local/lib/python3.10/dist-packages (from pandas>=1.4.3->langchain-cohere) (2024.2)\n",
            "Requirement already satisfied: tzdata>=2022.1 in /usr/local/lib/python3.10/dist-packages (from pandas>=1.4.3->langchain-cohere) (2024.1)\n",
            "Requirement already satisfied: annotated-types>=0.6.0 in /usr/local/lib/python3.10/dist-packages (from pydantic<3,>=2->langchain-cohere) (0.7.0)\n",
            "Requirement already satisfied: python-dotenv>=0.21.0 in /usr/local/lib/python3.10/dist-packages (from pydantic-settings<3.0.0,>=2.4.0->langchain-community) (1.0.1)\n",
            "Requirement already satisfied: charset-normalizer<4,>=2 in /usr/local/lib/python3.10/dist-packages (from requests<3,>=2->langchain-community) (3.3.2)\n",
            "Requirement already satisfied: idna<4,>=2.5 in /usr/local/lib/python3.10/dist-packages (from requests<3,>=2->langchain-community) (3.8)\n",
            "Requirement already satisfied: greenlet!=0.4.17 in /usr/local/lib/python3.10/dist-packages (from SQLAlchemy<3,>=1.4->langchain-community) (3.1.0)\n",
            "Requirement already satisfied: botocore<1.36.0,>=1.35.19 in /usr/local/lib/python3.10/dist-packages (from boto3<2.0.0,>=1.34.0->cohere<6.0,>=5.5.6->langchain-cohere) (1.35.19)\n",
            "Requirement already satisfied: jmespath<2.0.0,>=0.7.1 in /usr/local/lib/python3.10/dist-packages (from boto3<2.0.0,>=1.34.0->cohere<6.0,>=5.5.6->langchain-cohere) (1.0.1)\n",
            "Requirement already satisfied: s3transfer<0.11.0,>=0.10.0 in /usr/local/lib/python3.10/dist-packages (from boto3<2.0.0,>=1.34.0->cohere<6.0,>=5.5.6->langchain-cohere) (0.10.2)\n",
            "Requirement already satisfied: anyio in /usr/local/lib/python3.10/dist-packages (from httpx>=0.21.2->cohere<6.0,>=5.5.6->langchain-cohere) (3.7.1)\n",
            "Requirement already satisfied: httpcore==1.* in /usr/local/lib/python3.10/dist-packages (from httpx>=0.21.2->cohere<6.0,>=5.5.6->langchain-cohere) (1.0.5)\n",
            "Requirement already satisfied: sniffio in /usr/local/lib/python3.10/dist-packages (from httpx>=0.21.2->cohere<6.0,>=5.5.6->langchain-cohere) (1.3.1)\n",
            "Requirement already satisfied: h11<0.15,>=0.13 in /usr/local/lib/python3.10/dist-packages (from httpcore==1.*->httpx>=0.21.2->cohere<6.0,>=5.5.6->langchain-cohere) (0.14.0)\n",
            "Requirement already satisfied: jsonpointer>=1.9 in /usr/local/lib/python3.10/dist-packages (from jsonpatch<2.0,>=1.33->langchain-core<0.4.0,>=0.3.0->langchain-community) (3.0.0)\n",
            "Requirement already satisfied: six>=1.5 in /usr/local/lib/python3.10/dist-packages (from python-dateutil>=2.8.2->pandas>=1.4.3->langchain-cohere) (1.16.0)\n",
            "Requirement already satisfied: huggingface-hub<1.0,>=0.16.4 in /usr/local/lib/python3.10/dist-packages (from tokenizers<1,>=0.15->cohere<6.0,>=5.5.6->langchain-cohere) (0.24.6)\n",
            "Requirement already satisfied: mypy-extensions>=0.3.0 in /usr/local/lib/python3.10/dist-packages (from typing-inspect<1,>=0.4.0->dataclasses-json<0.7,>=0.5.7->langchain-community) (1.0.0)\n",
            "Requirement already satisfied: filelock in /usr/local/lib/python3.10/dist-packages (from huggingface-hub<1.0,>=0.16.4->tokenizers<1,>=0.15->cohere<6.0,>=5.5.6->langchain-cohere) (3.16.0)\n",
            "Requirement already satisfied: fsspec>=2023.5.0 in /usr/local/lib/python3.10/dist-packages (from huggingface-hub<1.0,>=0.16.4->tokenizers<1,>=0.15->cohere<6.0,>=5.5.6->langchain-cohere) (2024.6.1)\n",
            "Requirement already satisfied: exceptiongroup in /usr/local/lib/python3.10/dist-packages (from anyio->httpx>=0.21.2->cohere<6.0,>=5.5.6->langchain-cohere) (1.2.2)\n"
          ]
        }
      ],
      "source": [
        "!pip install pinecone-client langchain-community pypdf langchain-cohere langchain_pinecone"
      ]
    },
    {
      "cell_type": "code",
      "execution_count": null,
      "metadata": {
        "id": "MP6NRKK0rN_A"
      },
      "outputs": [],
      "source": [
        "import os\n",
        "from google.colab import userdata\n",
        "os.environ[\"COHERE_API_KEY\"] = userdata.get(\"COHERE_API_KEY\")\n",
        "os.environ[\"PINECONE_API_KEY\"] = userdata.get(\"PINECONE_API_KEY\")"
      ]
    },
    {
      "cell_type": "code",
      "execution_count": null,
      "metadata": {
        "id": "DvFkusIXZeGd"
      },
      "outputs": [],
      "source": [
        "from langchain_core.documents import Document\n",
        "from langchain.document_loaders import CSVLoader\n",
        "from langchain.text_splitter import RecursiveCharacterTextSplitter\n",
        "\n",
        "def get_text_from_csv(uploaded_file):\n",
        "    loader = CSVLoader(file_path=uploaded_file)\n",
        "    documents = loader.load()\n",
        "    text = \" \".join([doc.page_content for doc in documents])\n",
        "    text_splitter = RecursiveCharacterTextSplitter(chunk_size=20000, chunk_overlap=2000, separators=[\"\\n\\n\", \".\", \" \", \"\"])\n",
        "    chunks = text_splitter.split_text(text)\n",
        "    docs = [Document(page_content=chunk) for chunk in chunks]\n",
        "    return docs"
      ]
    },
    {
      "cell_type": "code",
      "execution_count": null,
      "metadata": {
        "colab": {
          "base_uri": "https://localhost:8080/"
        },
        "id": "i9Vv64dAa5pc",
        "outputId": "e2fd3af8-7778-4fb0-b277-eec3344ae4e5"
      },
      "outputs": [
        {
          "output_type": "execute_result",
          "data": {
            "text/plain": [
              "CohereEmbeddings(client=<cohere.client.Client object at 0x7b891dbf9e40>, async_client=<cohere.client.AsyncClient object at 0x7b89201d7cd0>, model='embed-english-v3.0', truncate=None, cohere_api_key=SecretStr('**********'), embedding_types=['float'], max_retries=3, request_timeout=None, user_agent='langchain:partner', base_url=None)"
            ]
          },
          "metadata": {},
          "execution_count": 14
        }
      ],
      "source": [
        "from langchain_cohere import CohereEmbeddings\n",
        "embeddings = CohereEmbeddings(model=\"embed-english-v3.0\", cohere_api_key= os.environ[\"COHERE_API_KEY\"])\n",
        "embeddings"
      ]
    },
    {
      "cell_type": "code",
      "execution_count": null,
      "metadata": {
        "id": "_u-7mgbrfJyW"
      },
      "outputs": [],
      "source": [
        "from langchain.vectorstores import Pinecone\n",
        "from pinecone import Pinecone, ServerlessSpec\n",
        "\n",
        "pc = Pinecone(api_key= os.environ[\"PINECONE_API_KEY\"])\n",
        "index = pc.Index('dataindex')\n",
        "namespace= \"angelee\"\n",
        "\n",
        "if 'dataindex' not in pc.list_indexes().names():\n",
        "    pc.create_index(\n",
        "        name= 'dataindex',\n",
        "        dimension= 1024,\n",
        "        metric= 'cosine',\n",
        "        spec=ServerlessSpec(\n",
        "            cloud= 'aws',\n",
        "            region= 'us-east-1'\n",
        "        )\n",
        "    )"
      ]
    },
    {
      "cell_type": "code",
      "execution_count": null,
      "metadata": {
        "colab": {
          "base_uri": "https://localhost:8080/"
        },
        "id": "WnEjzZ6d2I-m",
        "outputId": "06770a2f-df3b-469b-c038-37a9ca6db84a"
      },
      "outputs": [
        {
          "output_type": "execute_result",
          "data": {
            "text/plain": [
              "Document(metadata={}, page_content='.\\nquestion: In what category could files without digital rights management be found on the iTunes store?\\nid: 56cc89c46d243a140015f010\\nanswer_start: 512\\ntext: iTunes Plus : 166\\ncontext: At the time the store was introduced, purchased audio files used the AAC format with added encryption, based on the FairPlay DRM system. Up to five authorized computers and an unlimited number of iPods could play the files. Burning the files with iTunes as an audio CD, then re-importing would create music files without the DRM. The DRM could also be removed using third-party software. However, in a deal with Apple, EMI began selling DRM-free, higher-quality songs on the iTunes Stores, in a category called \"iTunes Plus.\" While individual songs were made available at a cost of US$1.29, 30¢ more than the cost of a regular DRM song, entire albums were available for the same price, US$9.99, as DRM encoded albums. On October 17, 2007, Apple lowered the cost of individual iTunes Plus songs to US$0.99 per song, the same as DRM encoded tracks. On January 6, 2009, Apple announced that DRM has been removed from 80% of the music catalog, and that it would be removed from all music by April 2009.\\nquestion: When did Apple reveal that most of the iTunes selection was free from DRM?\\nid: 56cc89c46d243a140015f011\\nanswer_start: 850\\ntext: January 6, 2009 : 167\\ncontext: At the time the store was introduced, purchased audio files used the AAC format with added encryption, based on the FairPlay DRM system. Up to five authorized computers and an unlimited number of iPods could play the files. Burning the files with iTunes as an audio CD, then re-importing would create music files without the DRM. The DRM could also be removed using third-party software. However, in a deal with Apple, EMI began selling DRM-free, higher-quality songs on the iTunes Stores, in a category called \"iTunes Plus.\" While individual songs were made available at a cost of US$1.29, 30¢ more than the cost of a regular DRM song, entire albums were available for the same price, US$9.99, as DRM encoded albums. On October 17, 2007, Apple lowered the cost of individual iTunes Plus songs to US$0.99 per song, the same as DRM encoded tracks. On January 6, 2009, Apple announced that DRM has been removed from 80% of the music catalog, and that it would be removed from all music by April 2009.\\nquestion: By what time did Apple project its entire catalog would be free of DRM?\\nid: 56cc89c46d243a140015f012\\nanswer_start: 987\\ntext: April 2009 : 168\\ncontext: At the time the store was introduced, purchased audio files used the AAC format with added encryption, based on the FairPlay DRM system. Up to five authorized computers and an unlimited number of iPods could play the files. Burning the files with iTunes as an audio CD, then re-importing would create music files without the DRM. The DRM could also be removed using third-party software. However, in a deal with Apple, EMI began selling DRM-free, higher-quality songs on the iTunes Stores, in a category called \"iTunes Plus.\" While individual songs were made available at a cost of US$1.29, 30¢ more than the cost of a regular DRM song, entire albums were available for the same price, US$9.99, as DRM encoded albums. On October 17, 2007, Apple lowered the cost of individual iTunes Plus songs to US$0.99 per song, the same as DRM encoded tracks. On January 6, 2009, Apple announced that DRM has been removed from 80% of the music catalog, and that it would be removed from all music by April 2009.\\nquestion: What was the original format for purchased audio files on iTunes?\\nid: 56cfb8e5234ae51400d9beeb\\nanswer_start: 69\\ntext: AAC : 169\\ncontext: At the time the store was introduced, purchased audio files used the AAC format with added encryption, based on the FairPlay DRM system. Up to five authorized computers and an unlimited number of iPods could play the files. Burning the files with iTunes as an audio CD, then re-importing would create music files without the DRM. The DRM could also be removed using third-party software. However, in a deal with Apple, EMI began selling DRM-free, higher-quality songs on the iTunes Stores, in a category called \"iTunes Plus.\" While individual songs were made available at a cost of US$1.29, 30¢ more than the cost of a regular DRM song, entire albums were available for the same price, US$9.99, as DRM encoded albums. On October 17, 2007, Apple lowered the cost of individual iTunes Plus songs to US$0.99 per song, the same as DRM encoded tracks. On January 6, 2009, Apple announced that DRM has been removed from 80% of the music catalog, and that it would be removed from all music by April 2009.\\nquestion: What was the name of the DRM system originally used by Apple and iTunes?\\nid: 56cfb8e5234ae51400d9beec\\nanswer_start: 116\\ntext: FairPlay : 170\\ncontext: At the time the store was introduced, purchased audio files used the AAC format with added encryption, based on the FairPlay DRM system. Up to five authorized computers and an unlimited number of iPods could play the files. Burning the files with iTunes as an audio CD, then re-importing would create music files without the DRM. The DRM could also be removed using third-party software. However, in a deal with Apple, EMI began selling DRM-free, higher-quality songs on the iTunes Stores, in a category called \"iTunes Plus.\" While individual songs were made available at a cost of US$1.29, 30¢ more than the cost of a regular DRM song, entire albums were available for the same price, US$9.99, as DRM encoded albums. On October 17, 2007, Apple lowered the cost of individual iTunes Plus songs to US$0.99 per song, the same as DRM encoded tracks. On January 6, 2009, Apple announced that DRM has been removed from 80% of the music catalog, and that it would be removed from all music by April 2009.\\nquestion: What was the name of the premium service that offered higher quality and DRM-free songs?\\nid: 56cfb8e5234ae51400d9beed\\nanswer_start: 512\\ntext: iTunes Plus : 171\\ncontext: At the time the store was introduced, purchased audio files used the AAC format with added encryption, based on the FairPlay DRM system. Up to five authorized computers and an unlimited number of iPods could play the files. Burning the files with iTunes as an audio CD, then re-importing would create music files without the DRM. The DRM could also be removed using third-party software. However, in a deal with Apple, EMI began selling DRM-free, higher-quality songs on the iTunes Stores, in a category called \"iTunes Plus.\" While individual songs were made available at a cost of US$1.29, 30¢ more than the cost of a regular DRM song, entire albums were available for the same price, US$9.99, as DRM encoded albums. On October 17, 2007, Apple lowered the cost of individual iTunes Plus songs to US$0.99 per song, the same as DRM encoded tracks. On January 6, 2009, Apple announced that DRM has been removed from 80% of the music catalog, and that it would be removed from all music by April 2009.\\nquestion: In what year was DRM completely eliminated from the iTunes offerings?\\nid: 56cfb8e5234ae51400d9beef\\nanswer_start: 861\\ntext: 2009 : 172\\ncontext: iPods cannot play music files from competing music stores that use rival-DRM technologies like Microsoft\\'s protected WMA or RealNetworks\\' Helix DRM. Example stores include Napster and MSN Music. RealNetworks claims that Apple is creating problems for itself by using FairPlay to lock users into using the iTunes Store. Steve Jobs stated that Apple makes little profit from song sales, although Apple uses the store to promote iPod sales. However, iPods can also play music files from online stores that do not use DRM, such as eMusic or Amie Street.\\nquestion: What are two stores which sell files with DRM not compatible with iPods?\\nid: 56cc8b576d243a140015f023\\nanswer_start: 172\\ntext: Napster and MSN Music : 173\\ncontext: iPods cannot play music files from competing music stores that use rival-DRM technologies like Microsoft\\'s protected WMA or RealNetworks\\' Helix DRM. Example stores include Napster and MSN Music. RealNetworks claims that Apple is creating problems for itself by using FairPlay to lock users into using the iTunes Store. Steve Jobs stated that Apple makes little profit from song sales, although Apple uses the store to promote iPod sales. However, iPods can also play music files from online stores that do not use DRM, such as eMusic or Amie Street.\\nquestion: For what device\\'s sales does Apple leverage the iTunes store?\\nid: 56cc8b576d243a140015f025\\nanswer_start: 0\\ntext: iPods : 174\\ncontext: iPods cannot play music files from competing music stores that use rival-DRM technologies like Microsoft\\'s protected WMA or RealNetworks\\' Helix DRM. Example stores include Napster and MSN Music. RealNetworks claims that Apple is creating problems for itself by using FairPlay to lock users into using the iTunes Store. Steve Jobs stated that Apple makes little profit from song sales, although Apple uses the store to promote iPod sales. However, iPods can also play music files from online stores that do not use DRM, such as eMusic or Amie Street.\\nquestion: The iPod can play music from other online stores as long as they don\\'t contain what feature?\\nid: 56cfb97c234ae51400d9bf03\\nanswer_start: 73\\ntext: DRM : 175\\ncontext: Universal Music Group decided not to renew their contract with the iTunes Store on July 3, 2007. Universal will now supply iTunes in an \\'at will\\' capacity.\\nquestion: What company ended its deal with Apple\\'s music store in July of 2007?\\nid: 56cc911e6d243a140015f02a\\nanswer_start: 0\\ntext: Universal Music Group : 176\\ncontext: Universal Music Group decided not to renew their contract with the iTunes Store on July 3, 2007. Universal will now supply iTunes in an \\'at will\\' capacity.\\nquestion: What entity did Universal have a contract with prior to July of 2007?\\nid: 56cc911e6d243a140015f02b\\nanswer_start: 67\\ntext: iTunes Store : 177\\ncontext: Universal Music Group decided not to renew their contract with the iTunes Store on July 3, 2007. Universal will now supply iTunes in an \\'at will\\' capacity.\\nquestion: In what year did Universal Music Group let their contract with iTunes lapse?\\nid: 56cfb99b234ae51400d9bf05\\nanswer_start: 91\\ntext: 2007 : 178\\ncontext: Apple debuted the iTunes Wi-Fi Music Store on September 5, 2007, in its Media Event entitled \"The Beat Goes On...\". This service allows users to access the Music Store from either an iPhone or an iPod Touch and download songs directly to the device that can be synced to the user\\'s iTunes Library over a WiFi connection, or, in the case of an iPhone, the telephone network.\\nquestion: What was the name of the event at which the iTunes Wi-Fi store was launched?\\nid: 56cc91b56d243a140015f030\\nanswer_start: 94\\ntext: The Beat Goes On... : 179\\ncontext: Apple debuted the iTunes Wi-Fi Music Store on September 5, 2007, in its Media Event entitled \"The Beat Goes On...\". This service allows users to access the Music Store from either an iPhone or an iPod Touch and download songs directly to the device that can be synced to the user\\'s iTunes Library over a WiFi connection, or, in the case of an iPhone, the telephone network.\\nquestion: On what date was the iTunes Wi-Fi Music Store launched?\\nid: 56cc91b56d243a140015f033\\nanswer_start: 46\\ntext: September 5, 2007 : 180\\ncontext: Apple debuted the iTunes Wi-Fi Music Store on September 5, 2007, in its Media Event entitled \"The Beat Goes On...\". This service allows users to access the Music Store from either an iPhone or an iPod Touch and download songs directly to the device that can be synced to the user\\'s iTunes Library over a WiFi connection, or, in the case of an iPhone, the telephone network.\\nquestion: In what year was the iTunes Wi-Fi Music Store introduced?\\nid: 56cfb9f7234ae51400d9bf0d\\nanswer_start: 59\\ntext: 2007 : 181\\ncontext: Apple debuted the iTunes Wi-Fi Music Store on September 5, 2007, in its Media Event entitled \"The Beat Goes On...\". This service allows users to access the Music Store from either an iPhone or an iPod Touch and download songs directly to the device that can be synced to the user\\'s iTunes Library over a WiFi connection, or, in the case of an iPhone, the telephone network.\\nquestion: Which Apple device has the ability to sync with iTunes via the phone network?\\nid: 56cfb9f7234ae51400d9bf0e\\nanswer_start: 183\\ntext: iPhone : 182\\ncontext: Video games are playable on various versions of iPods. The original iPod had the game Brick (originally invented by Apple\\'s co-founder Steve Wozniak) included as an easter egg hidden feature; later firmware versions added it as a menu option. Later revisions of the iPod added three more games: Parachute, Solitaire, and Music Quiz.\\nquestion: On what devices can video games be used?\\nid: 56cc92346d243a140015f038\\nanswer_start: 48\\ntext: iPods : 183\\ncontext: Video games are playable on various versions of iPods. The original iPod had the game Brick (originally invented by Apple\\'s co-founder Steve Wozniak) included as an easter egg hidden feature; later firmware versions added it as a menu option. Later revisions of the iPod added three more games: Parachute, Solitaire, and Music Quiz.\\nquestion: What was included on the first iPod?\\nid: 56cc92346d243a140015f039\\nanswer_start: 86\\ntext: Brick : 184\\ncontext: Video games are playable on various versions of iPods. The original iPod had the game Brick (originally invented by Apple\\'s co-founder Steve Wozniak) included as an easter egg hidden feature; later firmware versions added it as a menu option. Later revisions of the iPod added three more games: Parachute, Solitaire, and Music Quiz.\\nquestion: Who created Brick?\\nid: 56cc92346d243a140015f03a\\nanswer_start: 135\\ntext: Steve Wozniak : 185\\ncontext: Video games are playable on various versions of iPods. The original iPod had the game Brick (originally invented by Apple\\'s co-founder Steve Wozniak) included as an easter egg hidden feature; later firmware versions added it as a menu option. Later revisions of the iPod added three more games: Parachute, Solitaire, and Music Quiz.\\nquestion: What are three games, in addition to Brick, which have been included with the iPod?\\nid: 56cc92346d243a140015f03b\\nanswer_start: 295\\ntext: Parachute, Solitaire, and Music Quiz : 186\\ncontext: Video games are playable on various versions of iPods. The original iPod had the game Brick (originally invented by Apple\\'s co-founder Steve Wozniak) included as an easter egg hidden feature; later firmware versions added it as a menu option. Later revisions of the iPod added three more games: Parachute, Solitaire, and Music Quiz.\\nquestion: What is another phrase meaning hidden feature?\\nid: 56cc92346d243a140015f03c\\nanswer_start: 165\\ntext: easter egg : 187\\ncontext: Video games are playable on various versions of iPods. The original iPod had the game Brick (originally invented by Apple\\'s co-founder Steve Wozniak) included as an easter egg hidden feature; later firmware versions added it as a menu option. Later revisions of the iPod added three more games: Parachute, Solitaire, and Music Quiz.\\nquestion: What was the first, hidden game included with the original iPod?\\nid: 56cfba3b234ae51400d9bf11\\nanswer_start: 86\\ntext: Brick : 188\\ncontext: Video games are playable on various versions of iPods. The original iPod had the game Brick (originally invented by Apple\\'s co-founder Steve Wozniak) included as an easter egg hidden feature; later firmware versions added it as a menu option. Later revisions of the iPod added three more games: Parachute, Solitaire, and Music Quiz.\\nquestion: What other games were later added to the original iPod?\\nid: 56cfba3b234ae51400d9bf12\\nanswer_start: 295\\ntext: Parachute, Solitaire, and Music Quiz : 189\\ncontext: In September 2006, the iTunes Store began to offer additional games for purchase with the launch of iTunes 7, compatible with the fifth generation iPod with iPod software 1.2 or later. Those games were: Bejeweled, Cubis 2, Mahjong, Mini Golf, Pac-Man, Tetris, Texas Hold \\'Em, Vortex, Asphalt 4: Elite Racing and Zuma. Additional games have since been added. These games work on the 6th and 5th generation iPod Classic and the 5th and 4th generation iPod Nano.\\nquestion: In what year did the iTunes store begin allowing users to buy video games?\\nid: 56cca2066d243a140015f042\\nanswer_start: 13\\ntext: 2006 : 190\\ncontext: In September 2006, the iTunes Store began to offer additional games for purchase with the launch of iTunes 7, compatible with the fifth generation iPod with iPod software 1.2 or later. Those games were: Bejeweled, Cubis 2, Mahjong, Mini Golf, Pac-Man, Tetris, Texas Hold \\'Em, Vortex, Asphalt 4: Elite Racing and Zuma. Additional games have since been added. These games work on the 6th and 5th generation iPod Classic and the 5th and 4th generation iPod Nano.\\nquestion: Which version of iTunes was introduced with the ability to purchase games?\\nid: 56cca2066d243a140015f043\\nanswer_start: 100\\ntext: iTunes 7 : 191\\ncontext: In September 2006, the iTunes Store began to offer additional games for purchase with the launch of iTunes 7, compatible with the fifth generation iPod with iPod software 1.2 or later. Those games were: Bejeweled, Cubis 2, Mahjong, Mini Golf, Pac-Man, Tetris, Texas Hold \\'Em, Vortex, Asphalt 4: Elite Racing and Zuma. Additional games have since been added. These games work on the 6th and 5th generation iPod Classic and the 5th and 4th generation iPod Nano.\\nquestion: What was the first generation of iPod Classic on which games like Mahjong and Tetris could be played?\\nid: 56cca2066d243a140015f045\\nanswer_start: 390\\ntext: 5th generation : 192\\ncontext: In September 2006, the iTunes Store began to offer additional games for purchase with the launch of iTunes 7, compatible with the fifth generation iPod with iPod software 1.2 or later. Those games were: Bejeweled, Cubis 2, Mahjong, Mini Golf, Pac-Man, Tetris, Texas Hold \\'Em, Vortex, Asphalt 4: Elite Racing and Zuma. Additional games have since been added. These games work on the 6th and 5th generation iPod Classic and the 5th and 4th generation iPod Nano.\\nquestion: On which generation of iPod Nano can games be played?\\nid: 56cca2066d243a140015f046\\nanswer_start: 434\\ntext: 4th generation : 193\\ncontext: In September 2006, the iTunes Store began to offer additional games for purchase with the launch of iTunes 7, compatible with the fifth generation iPod with iPod software 1.2 or later. Those games were: Bejeweled, Cubis 2, Mahjong, Mini Golf, Pac-Man, Tetris, Texas Hold \\'Em, Vortex, Asphalt 4: Elite Racing and Zuma. Additional games have since been added. These games work on the 6th and 5th generation iPod Classic and the 5th and 4th generation iPod Nano.\\nquestion: In what year did iTunes 7 launch, along with a plethora of additional games?\\nid: 56cfba85234ae51400d9bf15\\nanswer_start: 13\\ntext: 2006 : 194\\ncontext: In September 2006, the iTunes Store began to offer additional games for purchase with the launch of iTunes 7, compatible with the fifth generation iPod with iPod software 1.2 or later. Those games were: Bejeweled, Cubis 2, Mahjong, Mini Golf, Pac-Man, Tetris, Texas Hold \\'Em, Vortex, Asphalt 4: Elite Racing and Zuma. Additional games have since been added. These games work on the 6th and 5th generation iPod Classic and the 5th and 4th generation iPod Nano.\\nquestion: Which generation iPod was required to enjoy the new games available on iTunes 7?\\nid: 56cfba85234ae51400d9bf16\\nanswer_start: 130\\ntext: fifth : 195\\ncontext: With third parties like Namco, Square Enix, Electronic Arts, Sega, and Hudson Soft all making games for the iPod, Apple\\'s MP3 player has taken steps towards entering the video game handheld console market. Even video game magazines like GamePro and EGM have reviewed and rated most of their games as of late')"
            ]
          },
          "metadata": {},
          "execution_count": 16
        }
      ],
      "source": [
        "docs = get_text_from_csv(\"/content/SQuAD_csv.csv\")\n",
        "docs[100]"
      ]
    },
    {
      "cell_type": "code",
      "execution_count": null,
      "metadata": {
        "id": "OrDfmTNKlJEv"
      },
      "outputs": [],
      "source": [
        "from langchain_pinecone import PineconeVectorStore\n",
        "vectorstore = PineconeVectorStore.from_documents(docs, embeddings, index_name= 'dataindex', namespace=\"angelee\")"
      ]
    },
    {
      "cell_type": "code",
      "execution_count": null,
      "metadata": {
        "collapsed": true,
        "id": "E68ENOTN4DvJ"
      },
      "outputs": [],
      "source": [
        "from langchain_cohere import ChatCohere\n",
        "from langchain.chains import RetrievalQA\n",
        "\n",
        "llm = ChatCohere(\n",
        "    model=\"command-xlarge-nightly\",\n",
        "    cohere_api_key=os.environ[\"COHERE_API_KEY\"],\n",
        ")\n",
        "\n",
        "knowledge = PineconeVectorStore.from_existing_index(\n",
        "    index_name= 'dataindex',\n",
        "    namespace= namespace,\n",
        "    embedding= embeddings\n",
        ")\n",
        "\n",
        "retriever = knowledge.as_retriever()\n",
        "\n",
        "qa = RetrievalQA.from_chain_type(\n",
        "    llm=llm,\n",
        "    chain_type=\"stuff\",\n",
        "    retriever= retriever\n",
        ")"
      ]
    },
    {
      "cell_type": "code",
      "execution_count": null,
      "metadata": {
        "id": "-qpYf6IR5chE"
      },
      "outputs": [],
      "source": [
        "query = \"Who is Frédéric Chopin?\"\n",
        "\n",
        "retrieved_docs = retriever.invoke(query)\n",
        "print(\"Retrieved Document Chunks:\")\n",
        "for doc in retrieved_docs:\n",
        "    print(doc.page_content)"
      ]
    },
    {
      "cell_type": "code",
      "execution_count": null,
      "metadata": {
        "colab": {
          "base_uri": "https://localhost:8080/"
        },
        "id": "GEp90fmGDxoC",
        "outputId": "347d2fd9-d493-471c-f259-71deab0b5cae"
      },
      "outputs": [
        {
          "output_type": "stream",
          "name": "stdout",
          "text": [
            "Answer: Frédéric Chopin was a Polish and French composer and virtuoso pianist of the Romantic era. He was born in 1810 in Żelazowa Wola, a village located 29 miles west of Warsaw. Chopin's father, Nicolas Chopin, was a Frenchman from Lorraine who had emigrated to Poland in 1787. Chopin's mother, Justyna Krzyżanowska, was a poor relative of the Skarbeks, one of the families for whom Nicolas worked. Chopin was the couple's second child and only son. He had an elder sister, Ludwika, and two younger sisters, Izabela and Emilia.\n",
            "\n",
            "Chopin was a child prodigy who completed his musical education and composed his earlier works in Warsaw before leaving Poland at the age of 20, less than a month before the outbreak of the November 1830 Uprising. He settled in Paris at the age of 21 and obtained French citizenship in 1835. Chopin formed a friendship with Franz Liszt and was admired by many of his musical contemporaries, including Robert Schumann.\n",
            "\n",
            "Chopin's works remain popular, and he has been the subject of numerous films and biographies of varying degrees of historical accuracy. He is considered a prominent symbol of the Romantic era.\n"
          ]
        }
      ],
      "source": [
        "result = qa.invoke(query).get('result')\n",
        "print(\"Answer:\", result)"
      ]
    },
    {
      "cell_type": "code",
      "source": [],
      "metadata": {
        "id": "jCsv5FTBK49b"
      },
      "execution_count": null,
      "outputs": []
    }
  ],
  "metadata": {
    "colab": {
      "provenance": []
    },
    "kernelspec": {
      "display_name": "Python 3",
      "name": "python3"
    },
    "language_info": {
      "name": "python"
    }
  },
  "nbformat": 4,
  "nbformat_minor": 0
}